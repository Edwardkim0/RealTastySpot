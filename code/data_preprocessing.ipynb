{
 "cells": [
  {
   "cell_type": "code",
   "execution_count": 153,
   "metadata": {},
   "outputs": [],
   "source": [
    "import pandas as pd\n",
    "import numpy as np\n",
    "import csv\n",
    "import ast\n",
    "from datetime import datetime\n",
    "import collections"
   ]
  },
  {
   "cell_type": "code",
   "execution_count": 370,
   "metadata": {},
   "outputs": [],
   "source": [
    "naver_review = pd.read_excel('/Users/dhkim/PycharmProjects/RealTastySpot/data/네이버리뷰/naver_review.xlsx')\n",
    "kakao_review = pd.read_excel('/Users/dhkim/PycharmProjects/RealTastySpot/data/카카오리뷰/kakao_review.xlsx')\n",
    "google_review = pd.read_excel('/Users/dhkim/PycharmProjects/RealTastySpot/data/구글리뷰/google_reviews.xlsx', sheet_name=1)\n",
    "mango_review = pd.read_excel('/Users/dhkim/PycharmProjects/RealTastySpot/data/망고플레이트/mangoplates_reviews.xlsx')\n",
    "dinning_review = pd.read_excel('/Users/dhkim/PycharmProjects/RealTastySpot/data/다이닝코드/dinning_review_reshape.xlsx')\n",
    "dining_like = pd.read_excel('/Users/dhkim/PycharmProjects/RealTastySpot/data/다이닝코드/dinningcode_review_like.xlsx')"
   ]
  },
  {
   "cell_type": "markdown",
   "metadata": {},
   "source": [
    "# mango_review, google_review 전처리"
   ]
  },
  {
   "cell_type": "code",
   "execution_count": 371,
   "metadata": {},
   "outputs": [],
   "source": [
    "def preprocessing_allreview(df, seperate = \"-\"):\n",
    "    df.dates = ''\n",
    "    df.scores = ''\n",
    "    df.reviews = ''\n",
    "    for idx, review in enumerate(df.allreviews):\n",
    "        date_dict = {}\n",
    "        score_dict = {}\n",
    "        review_dict = {}\n",
    "        key_ = 0\n",
    "        try:\n",
    "            for i, values in enumerate([x.replace('{','').split(seperate) for x in review.split('}')]):\n",
    "                if len(values)==1:\n",
    "                    continue\n",
    "                try:\n",
    "                    if len(values) >= 3:\n",
    "                        a, b, c = values[:3]\n",
    "                        review_dict[key_] = c\n",
    "                    else:\n",
    "                        a, b = values\n",
    "                        review_dict[key_] = ''\n",
    "                    if '전' in b:\n",
    "                        b = b.replace(' ', '')\n",
    "                    b = b.replace('-', '.')\n",
    "                    b = b.rstrip()\n",
    "                    date_dict[key_] = b\n",
    "                except Exception as e:\n",
    "                    print(f'values : {values}')\n",
    "                    print(f'idx={idx}, i={i} error :{e}, a= \"{a.split(\" \")[-2]}\", b= \"{b}\", c= \"{c}\"')\n",
    "                try:\n",
    "                    score_dict[key_] = int(a.split(' ')[-2][0])\n",
    "                except IndexError as e:\n",
    "                    pass\n",
    "#                     print(f'values : {values}')\n",
    "#                     print(f'idx={idx}, i={i} error :{e}')\n",
    "                key_ += 1\n",
    "\n",
    "        except AttributeError as e:\n",
    "            print(f'{idx}, {e}, {review}')\n",
    "\n",
    "        df.loc[idx, 'dates'] = str(date_dict)\n",
    "        df.loc[idx, 'scores'] = str(score_dict)\n",
    "        df.loc[idx, 'reviews'] = str(review_dict)\n",
    "    return df"
   ]
  },
  {
   "cell_type": "markdown",
   "metadata": {},
   "source": [
    "## 구글 리뷰 seperator : \"-\""
   ]
  },
  {
   "cell_type": "code",
   "execution_count": 372,
   "metadata": {},
   "outputs": [
    {
     "data": {
      "text/plain": [
       "['{527: 별표 1개 ',\n",
       " '1년 전',\n",
       " '고객님의 소중한 의견 감사합니다! 메뉴 보는게 조금 어려우셨군요 ㅠ..ㅠ..이 부분 수렴하여 개선할 수 있도록 노력하겠습니다. 감사합니다 :)']"
      ]
     },
     "execution_count": 372,
     "metadata": {},
     "output_type": "execute_result"
    }
   ],
   "source": [
    "google_review.loc[7, 'allreviews'].split('}')[-30].split('-')"
   ]
  },
  {
   "cell_type": "markdown",
   "metadata": {},
   "source": [
    "## 망고 리뷰 seperator : \":\""
   ]
  },
  {
   "cell_type": "code",
   "execution_count": 373,
   "metadata": {},
   "outputs": [
    {
     "data": {
      "text/plain": [
       "['{1',\n",
       " '2020-08-20 ',\n",
       " '           20200609◇ 콩 국 수*. 인생 첫 콩국수...너무너무 대성공. 이럴수가. 저는 마카롱이나 콩국수나 처음 먹어보는 것들을 거의 <진수>라고 불리는 곳에서만 접해서 어쩐대요... 눈높이 너무 높아져서 이제 아무 콩국수나 못먹어벌여ㅠ*. 진짜 고소하고 꾸덕한 콩국수의 끝판왕이 아닐까요.. 콩을 워낙 좋아해도, 신문지맛이 난다는 소문 탓에 쉽사리 도전하지 못했는데... 역시 인간은 도전해야 경험하고 경험해야 진리를 찾을 수 있다는 말을 또 되새기게 됩니다...*. 그리고 여기 무슨 보쌈집인가요??? 김치 왜케 맛있어~!!~!! 김치 잘 안 먹는 저같은 어린이도 싹 비우게 하는 맛입니다.. 이 김치 하나만 있으면 쌀밥 한 그릇도 뚝딱 비워내겠는걸요. 물론 전 쌀밥은 안 먹긴 하지만요..        ']"
      ]
     },
     "execution_count": 373,
     "metadata": {},
     "output_type": "execute_result"
    }
   ],
   "source": [
    "mango_review.loc[7, 'allreviews'].split('}')[0].split(':')"
   ]
  },
  {
   "cell_type": "code",
   "execution_count": 374,
   "metadata": {},
   "outputs": [],
   "source": [
    "preprocessing_allreview(google_review, seperate='-')\n",
    "google_review.loc[:,'review_len'] = google_review['dates'].map(lambda x:len(x.split(',')))"
   ]
  },
  {
   "cell_type": "code",
   "execution_count": 375,
   "metadata": {},
   "outputs": [],
   "source": [
    "preprocessing_allreview(mango_review, seperate=':')\n",
    "mango_review.loc[:, 'review_len'] = mango_review['dates'].map(lambda x:len(x.split(',')))"
   ]
  },
  {
   "cell_type": "markdown",
   "metadata": {},
   "source": [
    "# 각 사이트 별 리뷰 개수 구하기 \n",
    "- 최근 1년 리뷰 개수, 최근 6개월 리뷰 개수, 최근 3개월 리뷰 개수, 최근 1개월 리뷰 개수"
   ]
  },
  {
   "cell_type": "code",
   "execution_count": 376,
   "metadata": {},
   "outputs": [],
   "source": [
    "\n",
    "def preprocess_datetime(df:pd.DataFrame, site:str='naver'):\n",
    "    df[f'{site}_1Y_num'] = ''\n",
    "    df[f'{site}_6M_num'] = ''\n",
    "    df[f'{site}_3M_num'] = ''\n",
    "    df[f'{site}_1M_num'] = ''\n",
    "    right_now = datetime.strptime('2020.09.01', '%Y.%m.%d')\n",
    "    for i, date_dict_str in enumerate(df['dates']):\n",
    "        try:\n",
    "            date_dict = ast.literal_eval(date_dict_str)\n",
    "        except ValueError as e:\n",
    "            date_dict_str = date_dict_str.replace('nan', '\\'\\'')\n",
    "            print(f'{i}, {e}, in literal_eval')\n",
    "        except SyntaxError as e:\n",
    "            date_dict_str = date_dict_str + '\\'}'\n",
    "            print(f'{i}, {e}, in literal_eval')\n",
    "            date_dict = ast.literal_eval(date_dict_str)\n",
    "        \n",
    "        timedelta_list = []\n",
    "        for idx, date_str in date_dict.items():\n",
    "            if '전' in date_str:\n",
    "                if '시간' in date_str:\n",
    "                    timedelta = 0\n",
    "                elif '일' in date_str:\n",
    "                    timedelta = int(date_str.split('일')[0])\n",
    "                elif '달' in date_str:\n",
    "                    timedelta = 30 * int(date_str.split('달')[0])\n",
    "                elif '년' in date_str:\n",
    "                    timedelta = 365 * int(date_str.split('년')[0])\n",
    "                \n",
    "            elif '일' in date_str:\n",
    "                if not '년' in date_str:\n",
    "                    date_str = '2020년 ' + date_str\n",
    "                try:\n",
    "                    timedelta = (right_now - datetime.strptime(date_str, '%Y년 %m월 %d일')).days\n",
    "                except Exception as e:\n",
    "                    print(f'{i}, {e}, [date_str] in \"%Y년 %m월 %d일\" strptime')\n",
    "            else:\n",
    "                try:\n",
    "                    timedelta = (right_now - datetime.strptime(date_str, '%Y.%m.%d')).days\n",
    "                except Exception as e:\n",
    "                    print(f'{i}, {e}, [date_str] in \"%Y.%m.%d\" strptime')\n",
    "                    if not date_str:\n",
    "                        continue\n",
    "                \n",
    "            timedelta_list.append(timedelta)\n",
    "        \n",
    "        df.loc[i, f'{site}_1Y_num'] = len([x for x in timedelta_list if x <= 365])\n",
    "        df.loc[i, f'{site}_6M_num'] = len([x for x in timedelta_list if x <= 180])\n",
    "        df.loc[i, f'{site}_3M_num'] = len([x for x in timedelta_list if x <= 90])\n",
    "        df.loc[i, f'{site}_1M_num'] = len([x for x in timedelta_list if x <= 30])\n",
    "    return df"
   ]
  },
  {
   "cell_type": "code",
   "execution_count": 377,
   "metadata": {},
   "outputs": [
    {
     "name": "stdout",
     "output_type": "stream",
     "text": [
      "24, EOL while scanning string literal (<unknown>, line 1), in literal_eval\n"
     ]
    }
   ],
   "source": [
    "naver_review = preprocess_datetime(naver_review, 'naver')"
   ]
  },
  {
   "cell_type": "code",
   "execution_count": 378,
   "metadata": {},
   "outputs": [
    {
     "name": "stdout",
     "output_type": "stream",
     "text": [
      "4, time data '' does not match format '%Y.%m.%d', [date_str] in \"%Y.%m.%d\" strptime\n",
      "4, time data '' does not match format '%Y.%m.%d', [date_str] in \"%Y.%m.%d\" strptime\n",
      "4, time data '' does not match format '%Y.%m.%d', [date_str] in \"%Y.%m.%d\" strptime\n",
      "4, time data '' does not match format '%Y.%m.%d', [date_str] in \"%Y.%m.%d\" strptime\n",
      "4, time data '' does not match format '%Y.%m.%d', [date_str] in \"%Y.%m.%d\" strptime\n",
      "6, time data '' does not match format '%Y.%m.%d', [date_str] in \"%Y.%m.%d\" strptime\n",
      "6, time data '' does not match format '%Y.%m.%d', [date_str] in \"%Y.%m.%d\" strptime\n",
      "6, time data '' does not match format '%Y.%m.%d', [date_str] in \"%Y.%m.%d\" strptime\n",
      "6, time data '' does not match format '%Y.%m.%d', [date_str] in \"%Y.%m.%d\" strptime\n",
      "7, time data '' does not match format '%Y.%m.%d', [date_str] in \"%Y.%m.%d\" strptime\n"
     ]
    }
   ],
   "source": [
    "kakao_review = preprocess_datetime(kakao_review, 'kakao')"
   ]
  },
  {
   "cell_type": "code",
   "execution_count": 379,
   "metadata": {},
   "outputs": [
    {
     "name": "stdout",
     "output_type": "stream",
     "text": [
      "23, malformed node or string: <_ast.Name object at 0x121610b00>, in literal_eval\n"
     ]
    }
   ],
   "source": [
    "dinning_review = preprocess_datetime(dinning_review, 'dinning')"
   ]
  },
  {
   "cell_type": "code",
   "execution_count": 380,
   "metadata": {},
   "outputs": [],
   "source": [
    "google_review = preprocess_datetime(google_review, 'google')"
   ]
  },
  {
   "cell_type": "code",
   "execution_count": 381,
   "metadata": {},
   "outputs": [],
   "source": [
    "mango_review = preprocess_datetime(mango_review, 'mango')"
   ]
  },
  {
   "cell_type": "code",
   "execution_count": 382,
   "metadata": {},
   "outputs": [],
   "source": [
    "mango_review = mango_review.rename(columns = {'views':'mango_views', 'likes':'mango_likes', 'review_score':'mango_score'})"
   ]
  },
  {
   "cell_type": "code",
   "execution_count": 384,
   "metadata": {},
   "outputs": [],
   "source": [
    "mango_review = mango_review.drop(['scores'], axis=1)"
   ]
  },
  {
   "cell_type": "code",
   "execution_count": 386,
   "metadata": {},
   "outputs": [],
   "source": [
    "mango_review = mango_review.rename(columns = {'review_count':'mango_review_count', 'allreviews':'mango_allreviews', 'dates':'mango_dates', 'reviews':'mango_reviews', 'review_len':'mango_review_len' })"
   ]
  },
  {
   "cell_type": "code",
   "execution_count": 396,
   "metadata": {},
   "outputs": [],
   "source": [
    "google_review = google_review.rename(columns={old:'google_'+old for old in google_review.columns[2:9]})"
   ]
  },
  {
   "cell_type": "code",
   "execution_count": 400,
   "metadata": {},
   "outputs": [],
   "source": [
    "naver_review = naver_review.drop(['address', 'link', 'loc_name'], axis=1)"
   ]
  },
  {
   "cell_type": "code",
   "execution_count": 403,
   "metadata": {},
   "outputs": [],
   "source": [
    "naver_review = naver_review.rename(columns={old:'naver_'+old for old in naver_review.columns[2:7]})"
   ]
  },
  {
   "cell_type": "code",
   "execution_count": 405,
   "metadata": {},
   "outputs": [],
   "source": [
    "naver_review = naver_review.drop('naver_visitor_num', axis=1)"
   ]
  },
  {
   "cell_type": "code",
   "execution_count": 407,
   "metadata": {},
   "outputs": [],
   "source": [
    "kakao_review = kakao_review.drop(['address', 'link', 'loc_name'], axis=1)"
   ]
  },
  {
   "cell_type": "code",
   "execution_count": 410,
   "metadata": {},
   "outputs": [],
   "source": [
    "kakao_review = kakao_review.rename(columns={old:'kakao_'+old for old in kakao_review.columns[2:6]})"
   ]
  },
  {
   "cell_type": "code",
   "execution_count": 415,
   "metadata": {},
   "outputs": [],
   "source": [
    "dinning_review = dinning_review.rename(columns={old:'dinning_'+old for old in dinning_review.columns[2:5]})"
   ]
  },
  {
   "cell_type": "code",
   "execution_count": 422,
   "metadata": {},
   "outputs": [],
   "source": [
    "merge1 = pd.merge(naver_review, kakao_review, on=['name','rank'], how='outer')"
   ]
  },
  {
   "cell_type": "code",
   "execution_count": 424,
   "metadata": {},
   "outputs": [],
   "source": [
    "merge2 = pd.merge(merge1, dinning_review, on=['name','rank'], how='outer')"
   ]
  },
  {
   "cell_type": "code",
   "execution_count": 427,
   "metadata": {},
   "outputs": [
    {
     "data": {
      "text/html": [
       "<div>\n",
       "<style scoped>\n",
       "    .dataframe tbody tr th:only-of-type {\n",
       "        vertical-align: middle;\n",
       "    }\n",
       "\n",
       "    .dataframe tbody tr th {\n",
       "        vertical-align: top;\n",
       "    }\n",
       "\n",
       "    .dataframe thead th {\n",
       "        text-align: right;\n",
       "    }\n",
       "</style>\n",
       "<table border=\"1\" class=\"dataframe\">\n",
       "  <thead>\n",
       "    <tr style=\"text-align: right;\">\n",
       "      <th></th>\n",
       "      <th>rank</th>\n",
       "      <th>name</th>\n",
       "      <th>naver_reviews</th>\n",
       "      <th>naver_scores</th>\n",
       "      <th>naver_dates</th>\n",
       "      <th>naver_visit_num</th>\n",
       "      <th>num_review</th>\n",
       "      <th>naver_1Y_num</th>\n",
       "      <th>naver_6M_num</th>\n",
       "      <th>naver_3M_num</th>\n",
       "      <th>...</th>\n",
       "      <th>kakao_6M_num</th>\n",
       "      <th>kakao_3M_num</th>\n",
       "      <th>kakao_1M_num</th>\n",
       "      <th>dinning_review</th>\n",
       "      <th>dinning_dates</th>\n",
       "      <th>dinning_score</th>\n",
       "      <th>dinning_1Y_num</th>\n",
       "      <th>dinning_6M_num</th>\n",
       "      <th>dinning_3M_num</th>\n",
       "      <th>dinning_1M_num</th>\n",
       "    </tr>\n",
       "  </thead>\n",
       "  <tbody>\n",
       "    <tr>\n",
       "      <th>0</th>\n",
       "      <td>1</td>\n",
       "      <td>스시아라타</td>\n",
       "      <td>{0: '친절하시고 맛있어요! 다만, 저한텐 양이 좀 많았어요.', 1: '섬세함이...</td>\n",
       "      <td>{0: 5.0, 1: 4.5, 2: 5.0, 3: 5.0, 4: 5.0, 5: 5....</td>\n",
       "      <td>{0: '2020.08.06', 1: '2020.07.30', 2: '2020.07...</td>\n",
       "      <td>{0: '1번째 방문영수증', 1: '1번째 방문영수증', 2: '1번째 방문영수증...</td>\n",
       "      <td>9</td>\n",
       "      <td>8</td>\n",
       "      <td>8</td>\n",
       "      <td>3</td>\n",
       "      <td>...</td>\n",
       "      <td>6</td>\n",
       "      <td>3</td>\n",
       "      <td>2</td>\n",
       "      <td>{0: '#스시아라타\\n#すし あらた\\n#영등포스시아라타\\n#아라타\\n.\\n벌써 시...</td>\n",
       "      <td>{0: '2019년 4월 11일'}</td>\n",
       "      <td>{0: 5}</td>\n",
       "      <td>0</td>\n",
       "      <td>0</td>\n",
       "      <td>0</td>\n",
       "      <td>0</td>\n",
       "    </tr>\n",
       "    <tr>\n",
       "      <th>1</th>\n",
       "      <td>2</td>\n",
       "      <td>오헨</td>\n",
       "      <td>{0: '빵은 맛있는데 비싼게 흠이네요 버터프레첼 맛있어요', 1: '크로와상 일품...</td>\n",
       "      <td>{0: 4.5, 1: 4.0, 2: 5.0, 3: 5.0, 4: 5.0, 5: 5....</td>\n",
       "      <td>{0: '2020.08.24', 1: '2020.08.13', 2: '2020.07...</td>\n",
       "      <td>{0: '1번째 방문영수증', 1: '1번째 방문영수증', 2: '1번째 방문영수증...</td>\n",
       "      <td>14</td>\n",
       "      <td>14</td>\n",
       "      <td>12</td>\n",
       "      <td>7</td>\n",
       "      <td>...</td>\n",
       "      <td>1</td>\n",
       "      <td>1</td>\n",
       "      <td>0</td>\n",
       "      <td>{0: '위치가 인기있는 장소에서 살짝 비껴 있다. 하지만 빵의 수준은 아주 좋다....</td>\n",
       "      <td>{0: '2018년 9월 8일', 1: '2018년 2월 3일', 2: '6월 9일...</td>\n",
       "      <td>{0: 5, 1: 4, 2: 5, 3: 5}</td>\n",
       "      <td>2</td>\n",
       "      <td>2</td>\n",
       "      <td>1</td>\n",
       "      <td>0</td>\n",
       "    </tr>\n",
       "    <tr>\n",
       "      <th>2</th>\n",
       "      <td>3</td>\n",
       "      <td>하쯔호</td>\n",
       "      <td>{0: '런치도 맛있네요! 첫점으로 나온 히라메 먹고 남친이랑 다담주 디너 예약 결...</td>\n",
       "      <td>{0: 5.0, 1: 5.0, 2: 5.0, 3: 2.0, 4: 1.0, 5: 5....</td>\n",
       "      <td>{0: '2020.08.28', 1: '2020.08.27', 2: '2020.08...</td>\n",
       "      <td>{0: '2번째 방문영수증', 1: '1번째 방문영수증', 2: '1번째 방문영수증...</td>\n",
       "      <td>20</td>\n",
       "      <td>18</td>\n",
       "      <td>15</td>\n",
       "      <td>10</td>\n",
       "      <td>...</td>\n",
       "      <td>2</td>\n",
       "      <td>1</td>\n",
       "      <td>0</td>\n",
       "      <td>NaN</td>\n",
       "      <td>NaN</td>\n",
       "      <td>NaN</td>\n",
       "      <td>NaN</td>\n",
       "      <td>NaN</td>\n",
       "      <td>NaN</td>\n",
       "      <td>NaN</td>\n",
       "    </tr>\n",
       "    <tr>\n",
       "      <th>3</th>\n",
       "      <td>4</td>\n",
       "      <td>피그인더가든</td>\n",
       "      <td>{0: '피그인더가든 마음 편한 곳^^', 1: '맛은 좋은데 서비스는 별로에요',...</td>\n",
       "      <td>{0: 4.0, 1: 2.5, 2: 4.5, 3: 3.5, 4: 5.0, 5: 4....</td>\n",
       "      <td>{0: '2020.08.31', 1: '2020.08.30', 2: '2020.08...</td>\n",
       "      <td>{0: '1번째 방문영수증', 1: '1번째 방문영수증', 2: '1번째 방문영수증...</td>\n",
       "      <td>204</td>\n",
       "      <td>181</td>\n",
       "      <td>147</td>\n",
       "      <td>102</td>\n",
       "      <td>...</td>\n",
       "      <td>10</td>\n",
       "      <td>6</td>\n",
       "      <td>4</td>\n",
       "      <td>{0: '여의도에 위치한 샐러드 맛집이에요.\\n비건은 아니지만 건강한 먹거리를 추구...</td>\n",
       "      <td>{0: '2019년 11월 26일', 1: '3월 1일', 2: '5월 1일', 3...</td>\n",
       "      <td>{0: 5, 1: 5, 2: 3, 3: 4, 4: 4, 5: 4}</td>\n",
       "      <td>5</td>\n",
       "      <td>2</td>\n",
       "      <td>1</td>\n",
       "      <td>1</td>\n",
       "    </tr>\n",
       "    <tr>\n",
       "      <th>4</th>\n",
       "      <td>5</td>\n",
       "      <td>정인면옥</td>\n",
       "      <td>{0: '면이 질기고 덜 익어서 먹으면 체할 정도. 카운터 젊은 사장님에게 얘기하니...</td>\n",
       "      <td>{0: 0.5, 1: 5.0, 2: 2.0, 3: 4.5, 4: 4.0, 5: 5....</td>\n",
       "      <td>{0: '2020.08.30', 1: '2020.08.29', 2: '2020.08...</td>\n",
       "      <td>{0: '1번째 방문영수증', 1: '1번째 방문영수증', 2: '1번째 방문영수증...</td>\n",
       "      <td>160</td>\n",
       "      <td>140</td>\n",
       "      <td>130</td>\n",
       "      <td>68</td>\n",
       "      <td>...</td>\n",
       "      <td>20</td>\n",
       "      <td>16</td>\n",
       "      <td>5</td>\n",
       "      <td>{0: '여의도에서 평양냉면을 먹을때 무조건 원픽. 깔끔하고 맛있고 엄청 친절하다....</td>\n",
       "      <td>{0: '7월 18일', 1: '5일 전', 2: '2019년 6월 29일', 3:...</td>\n",
       "      <td>{0: 5, 1: 5, 2: 3, 3: 5, 4: 4}</td>\n",
       "      <td>2</td>\n",
       "      <td>2</td>\n",
       "      <td>2</td>\n",
       "      <td>1</td>\n",
       "    </tr>\n",
       "  </tbody>\n",
       "</table>\n",
       "<p>5 rows × 26 columns</p>\n",
       "</div>"
      ],
      "text/plain": [
       "   rank    name                                      naver_reviews  \\\n",
       "0     1   스시아라타  {0: '친절하시고 맛있어요! 다만, 저한텐 양이 좀 많았어요.', 1: '섬세함이...   \n",
       "1     2      오헨  {0: '빵은 맛있는데 비싼게 흠이네요 버터프레첼 맛있어요', 1: '크로와상 일품...   \n",
       "2     3     하쯔호  {0: '런치도 맛있네요! 첫점으로 나온 히라메 먹고 남친이랑 다담주 디너 예약 결...   \n",
       "3     4  피그인더가든  {0: '피그인더가든 마음 편한 곳^^', 1: '맛은 좋은데 서비스는 별로에요',...   \n",
       "4     5    정인면옥  {0: '면이 질기고 덜 익어서 먹으면 체할 정도. 카운터 젊은 사장님에게 얘기하니...   \n",
       "\n",
       "                                        naver_scores  \\\n",
       "0  {0: 5.0, 1: 4.5, 2: 5.0, 3: 5.0, 4: 5.0, 5: 5....   \n",
       "1  {0: 4.5, 1: 4.0, 2: 5.0, 3: 5.0, 4: 5.0, 5: 5....   \n",
       "2  {0: 5.0, 1: 5.0, 2: 5.0, 3: 2.0, 4: 1.0, 5: 5....   \n",
       "3  {0: 4.0, 1: 2.5, 2: 4.5, 3: 3.5, 4: 5.0, 5: 4....   \n",
       "4  {0: 0.5, 1: 5.0, 2: 2.0, 3: 4.5, 4: 4.0, 5: 5....   \n",
       "\n",
       "                                         naver_dates  \\\n",
       "0  {0: '2020.08.06', 1: '2020.07.30', 2: '2020.07...   \n",
       "1  {0: '2020.08.24', 1: '2020.08.13', 2: '2020.07...   \n",
       "2  {0: '2020.08.28', 1: '2020.08.27', 2: '2020.08...   \n",
       "3  {0: '2020.08.31', 1: '2020.08.30', 2: '2020.08...   \n",
       "4  {0: '2020.08.30', 1: '2020.08.29', 2: '2020.08...   \n",
       "\n",
       "                                     naver_visit_num  num_review naver_1Y_num  \\\n",
       "0  {0: '1번째 방문영수증', 1: '1번째 방문영수증', 2: '1번째 방문영수증...           9            8   \n",
       "1  {0: '1번째 방문영수증', 1: '1번째 방문영수증', 2: '1번째 방문영수증...          14           14   \n",
       "2  {0: '2번째 방문영수증', 1: '1번째 방문영수증', 2: '1번째 방문영수증...          20           18   \n",
       "3  {0: '1번째 방문영수증', 1: '1번째 방문영수증', 2: '1번째 방문영수증...         204          181   \n",
       "4  {0: '1번째 방문영수증', 1: '1번째 방문영수증', 2: '1번째 방문영수증...         160          140   \n",
       "\n",
       "  naver_6M_num naver_3M_num  ... kakao_6M_num kakao_3M_num kakao_1M_num  \\\n",
       "0            8            3  ...            6            3            2   \n",
       "1           12            7  ...            1            1            0   \n",
       "2           15           10  ...            2            1            0   \n",
       "3          147          102  ...           10            6            4   \n",
       "4          130           68  ...           20           16            5   \n",
       "\n",
       "                                      dinning_review  \\\n",
       "0  {0: '#스시아라타\\n#すし あらた\\n#영등포스시아라타\\n#아라타\\n.\\n벌써 시...   \n",
       "1  {0: '위치가 인기있는 장소에서 살짝 비껴 있다. 하지만 빵의 수준은 아주 좋다....   \n",
       "2                                                NaN   \n",
       "3  {0: '여의도에 위치한 샐러드 맛집이에요.\\n비건은 아니지만 건강한 먹거리를 추구...   \n",
       "4  {0: '여의도에서 평양냉면을 먹을때 무조건 원픽. 깔끔하고 맛있고 엄청 친절하다....   \n",
       "\n",
       "                                       dinning_dates  \\\n",
       "0                                {0: '2019년 4월 11일'}   \n",
       "1  {0: '2018년 9월 8일', 1: '2018년 2월 3일', 2: '6월 9일...   \n",
       "2                                                NaN   \n",
       "3  {0: '2019년 11월 26일', 1: '3월 1일', 2: '5월 1일', 3...   \n",
       "4  {0: '7월 18일', 1: '5일 전', 2: '2019년 6월 29일', 3:...   \n",
       "\n",
       "                          dinning_score dinning_1Y_num dinning_6M_num  \\\n",
       "0                                {0: 5}              0              0   \n",
       "1              {0: 5, 1: 4, 2: 5, 3: 5}              2              2   \n",
       "2                                   NaN            NaN            NaN   \n",
       "3  {0: 5, 1: 5, 2: 3, 3: 4, 4: 4, 5: 4}              5              2   \n",
       "4        {0: 5, 1: 5, 2: 3, 3: 5, 4: 4}              2              2   \n",
       "\n",
       "  dinning_3M_num dinning_1M_num  \n",
       "0              0              0  \n",
       "1              1              0  \n",
       "2            NaN            NaN  \n",
       "3              1              1  \n",
       "4              2              1  \n",
       "\n",
       "[5 rows x 26 columns]"
      ]
     },
     "execution_count": 427,
     "metadata": {},
     "output_type": "execute_result"
    }
   ],
   "source": [
    "merge2.head()"
   ]
  },
  {
   "cell_type": "code",
   "execution_count": null,
   "metadata": {},
   "outputs": [],
   "source": []
  }
 ],
 "metadata": {
  "kernelspec": {
   "display_name": "Python 3",
   "language": "python",
   "name": "python3"
  },
  "language_info": {
   "codemirror_mode": {
    "name": "ipython",
    "version": 3
   },
   "file_extension": ".py",
   "mimetype": "text/x-python",
   "name": "python",
   "nbconvert_exporter": "python",
   "pygments_lexer": "ipython3",
   "version": "3.7.0"
  }
 },
 "nbformat": 4,
 "nbformat_minor": 4
}
