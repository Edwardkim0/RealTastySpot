{
 "cells": [
  {
   "cell_type": "code",
   "execution_count": 2,
   "metadata": {},
   "outputs": [
    {
     "name": "stderr",
     "output_type": "stream",
     "text": [
      "/Users/dhkim/.pyenv/versions/xai/lib/python3.7/site-packages/pandas/compat/__init__.py:120: UserWarning: Could not import the lzma module. Your installed Python is incomplete. Attempting to use lzma compression will result in a RuntimeError.\n",
      "  warnings.warn(msg)\n"
     ]
    }
   ],
   "source": [
    "import pandas as pd\n",
    "import csv"
   ]
  },
  {
   "cell_type": "code",
   "execution_count": 9,
   "metadata": {},
   "outputs": [],
   "source": [
    "num1 = pd.read_csv('data/2020-08-31_18_27_crawl_diningcode_review.csv', sep='\\t').drop('Unnamed: 0', axis=1)\n",
    "num2 = pd.read_csv('data/2020-08-31_18_36_crawl_diningcode_review.csv', sep='\\t').drop('Unnamed: 0', axis=1)\n",
    "num3 = pd.read_csv('data/2020-08-31_18_39_crawl_diningcode_review.csv', sep='\\t').drop('Unnamed: 0', axis=1)\n",
    "num4 = pd.read_csv('data/2020-08-31_18_41_crawl_diningcode_review.csv', sep='\\t').drop('Unnamed: 0', axis=1)\n"
   ]
  },
  {
   "cell_type": "code",
   "execution_count": 15,
   "metadata": {},
   "outputs": [],
   "source": [
    "total_dinning_review = pd.concat([num1, num2, num3, num4])"
   ]
  },
  {
   "cell_type": "code",
   "execution_count": 22,
   "metadata": {},
   "outputs": [],
   "source": [
    "total_dinning_review.loc[total_dinning_review.name.map(lambda x: '나폴레옹' in x), 'name'] = '나폴레옹'"
   ]
  },
  {
   "cell_type": "code",
   "execution_count": 24,
   "metadata": {},
   "outputs": [],
   "source": [
    "total_dinning_review.loc[total_dinning_review.name.map(lambda x: '경천' in x), 'name'] = '경천애인'"
   ]
  },
  {
   "cell_type": "code",
   "execution_count": 29,
   "metadata": {},
   "outputs": [],
   "source": [
    "total_dinning_review.to_excel('data/dinningcode_review.xlsx', index=False, encoding='utf-8')"
   ]
  },
  {
   "cell_type": "code",
   "execution_count": 52,
   "metadata": {},
   "outputs": [
    {
     "data": {
      "text/plain": [
       "(36,)"
      ]
     },
     "execution_count": 52,
     "metadata": {},
     "output_type": "execute_result"
    }
   ],
   "source": [
    "total_dinning_review.name.unique().shape"
   ]
  },
  {
   "cell_type": "code",
   "execution_count": 44,
   "metadata": {},
   "outputs": [],
   "source": [
    "like1 = pd.read_csv('data/2020-08-31_20_10_crawl_diningcode_favor_review.csv', sep='\\t').drop('Unnamed: 0', axis=1)\n",
    "like2 = pd.read_csv('data/2020-08-31_20_19_crawl_diningcode_favor_review.csv', sep='\\t').drop('Unnamed: 0', axis=1)"
   ]
  },
  {
   "cell_type": "code",
   "execution_count": 45,
   "metadata": {},
   "outputs": [],
   "source": [
    "total_dinning_like = pd.concat([like1, like2])"
   ]
  },
  {
   "cell_type": "code",
   "execution_count": 47,
   "metadata": {},
   "outputs": [],
   "source": [
    "total_dinning_like.loc[total_dinning_like.name.map(lambda x: '나폴레옹' in x), 'name'] = '나폴레옹'"
   ]
  },
  {
   "cell_type": "code",
   "execution_count": 55,
   "metadata": {},
   "outputs": [],
   "source": [
    "total_dinning_like.loc[total_dinning_like.name.map(lambda x: '경천' in x), 'name'] = '경천애인'"
   ]
  },
  {
   "cell_type": "code",
   "execution_count": 67,
   "metadata": {},
   "outputs": [],
   "source": [
    "total_dinning_like.loc[2259] = ''\n",
    "total_dinning_like.loc[2259, 'name'] = '패트릭스와플'\n",
    "total_dinning_like.loc[2259, 'person'] = 'onis (1590곳)'\n",
    "total_dinning_like.loc[2259, 'like_date'] = '2019년 7월 21일'"
   ]
  },
  {
   "cell_type": "code",
   "execution_count": 68,
   "metadata": {},
   "outputs": [],
   "source": [
    "total_dinning_like.to_excel('data/dinningcode_review_like.xlsx', index=False, encoding='utf-8')"
   ]
  },
  {
   "cell_type": "code",
   "execution_count": 69,
   "metadata": {},
   "outputs": [
    {
     "data": {
      "text/plain": [
       "(39,)"
      ]
     },
     "execution_count": 69,
     "metadata": {},
     "output_type": "execute_result"
    }
   ],
   "source": [
    "total_dinning_like.name.unique().shape"
   ]
  },
  {
   "cell_type": "markdown",
   "metadata": {},
   "source": [
    "## 좋아요는 있는데 리뷰는 없는 곳 : 5곳"
   ]
  },
  {
   "cell_type": "code",
   "execution_count": 87,
   "metadata": {},
   "outputs": [
    {
     "data": {
      "text/plain": [
       "{'구이구이', '그레이에스프레소', '배꼽집', '신원', '하쯔호'}"
      ]
     },
     "execution_count": 87,
     "metadata": {},
     "output_type": "execute_result"
    }
   ],
   "source": [
    "set(total_dinning_like.name.unique()).difference(set(total_dinning_review.name.unique()))"
   ]
  },
  {
   "cell_type": "markdown",
   "metadata": {},
   "source": [
    "## 리뷰는 있는데 좋아요는 없는 곳 : 3곳"
   ]
  },
  {
   "cell_type": "code",
   "execution_count": 88,
   "metadata": {},
   "outputs": [
    {
     "data": {
      "text/plain": [
       "{'나폴레옹', '카페진정성'}"
      ]
     },
     "execution_count": 88,
     "metadata": {},
     "output_type": "execute_result"
    }
   ],
   "source": [
    "set(total_dinning_review.name.unique()).difference(set(total_dinning_like.name.unique()))"
   ]
  },
  {
   "cell_type": "code",
   "execution_count": 89,
   "metadata": {},
   "outputs": [],
   "source": [
    "place_list = pd.read_csv('../data/pilot_lists2.csv', sep=',').name\n",
    "place_list = place_list.map(lambda x:'경천애인' if '경천' in x else x)\n",
    "place_list = place_list.map(lambda x:'나폴레옹' if '나폴레옹' in x else x)\n",
    "place_list = place_list.values"
   ]
  },
  {
   "cell_type": "markdown",
   "metadata": {},
   "source": [
    "## 리뷰도 없고 좋아요도 없는 곳 : 3곳"
   ]
  },
  {
   "cell_type": "code",
   "execution_count": 91,
   "metadata": {},
   "outputs": [],
   "source": [
    "crawl_total = set(total_dinning_like.name.unique()).union(set(total_dinning_review.name.unique()))"
   ]
  },
  {
   "cell_type": "code",
   "execution_count": 92,
   "metadata": {},
   "outputs": [
    {
     "data": {
      "text/plain": [
       "{'대오옛집', '브로드웨이', '스시혜정'}"
      ]
     },
     "execution_count": 92,
     "metadata": {},
     "output_type": "execute_result"
    }
   ],
   "source": [
    "set(place_list).difference(crawl_total)"
   ]
  },
  {
   "cell_type": "code",
   "execution_count": 4,
   "metadata": {},
   "outputs": [],
   "source": [
    "dinning = pd.read_excel('data/dinningcode_review_like.xlsx')"
   ]
  },
  {
   "cell_type": "code",
   "execution_count": 6,
   "metadata": {},
   "outputs": [],
   "source": [
    "dinning_review = pd.read_excel('data/dinningcode_review.xlsx')"
   ]
  },
  {
   "cell_type": "code",
   "execution_count": 52,
   "metadata": {},
   "outputs": [],
   "source": [
    "def func(each_group):\n",
    "    new_dict = {}\n",
    "#     each_group.reset_index(drop=True)\n",
    "    new_dict['review'] = str({i:review for i, review in enumerate(each_group.review)})\n",
    "    new_dict['date'] = str({i:date for i, date in enumerate(each_group.date)})\n",
    "    new_dict['score'] = str({i:score for i, score in enumerate(each_group.score)})\n",
    "    return pd.DataFrame(new_dict, index=[each_group.name], columns=['review', 'date', 'score'])\n",
    "    print(new_dict['reveiw'])\n",
    "#     each_group.review"
   ]
  },
  {
   "cell_type": "code",
   "execution_count": 53,
   "metadata": {},
   "outputs": [
    {
     "data": {
      "text/plain": [
       "(36,)"
      ]
     },
     "execution_count": 53,
     "metadata": {},
     "output_type": "execute_result"
    }
   ],
   "source": [
    "dinning_review.name.unique().shape"
   ]
  },
  {
   "cell_type": "code",
   "execution_count": 73,
   "metadata": {},
   "outputs": [],
   "source": [
    "dinning_review_reshape = dinning_review.groupby('name').apply(lambda x:func(x)).reset_index().drop('level_1', axis=1)"
   ]
  },
  {
   "cell_type": "code",
   "execution_count": 71,
   "metadata": {},
   "outputs": [],
   "source": [
    "dinning_review_reshape.loc[:, 'review_num'] = dinning_review_reshape.review.map(lambda x:len(x.split(',')))\n",
    "dinning_review_reshape.loc[:, 'date_num'] = dinning_review_reshape.date.map(lambda x:len(x.split(',')))\n",
    "dinning_review_reshape.loc[:, 'score_num'] = dinning_review_reshape.score.map(lambda x:len(x.split(',')))"
   ]
  },
  {
   "cell_type": "code",
   "execution_count": 75,
   "metadata": {},
   "outputs": [],
   "source": [
    "dinning_review_reshape.to_excel('dinning_review_reshape.xlsx', index=False)"
   ]
  },
  {
   "cell_type": "code",
   "execution_count": 76,
   "metadata": {},
   "outputs": [
    {
     "data": {
      "text/html": [
       "<div>\n",
       "<style scoped>\n",
       "    .dataframe tbody tr th:only-of-type {\n",
       "        vertical-align: middle;\n",
       "    }\n",
       "\n",
       "    .dataframe tbody tr th {\n",
       "        vertical-align: top;\n",
       "    }\n",
       "\n",
       "    .dataframe thead th {\n",
       "        text-align: right;\n",
       "    }\n",
       "</style>\n",
       "<table border=\"1\" class=\"dataframe\">\n",
       "  <thead>\n",
       "    <tr style=\"text-align: right;\">\n",
       "      <th></th>\n",
       "      <th>name</th>\n",
       "      <th>review</th>\n",
       "      <th>date</th>\n",
       "      <th>score</th>\n",
       "    </tr>\n",
       "  </thead>\n",
       "  <tbody>\n",
       "    <tr>\n",
       "      <th>0</th>\n",
       "      <td>가양칼국수버섯매운탕</td>\n",
       "      <td>{0: '여의도 직장인이라면 대부분 알고 있는 맛집. 재료도 메뉴도 단순하기 때문에...</td>\n",
       "      <td>{0: '2019년 3월 27일', 1: '7월 14일', 2: '2019년 6월 ...</td>\n",
       "      <td>{0: 5, 1: 3, 2: 4, 3: 4, 4: 5, 5: 5, 6: 5, 7: ...</td>\n",
       "    </tr>\n",
       "    <tr>\n",
       "      <th>1</th>\n",
       "      <td>갓포아키</td>\n",
       "      <td>{0: '정갈하게 일식 먹고 싶을 때 추천합니다. 한우스키야키 우동전골 추천해요!'}</td>\n",
       "      <td>{0: '2019년 8월 29일'}</td>\n",
       "      <td>{0: 5}</td>\n",
       "    </tr>\n",
       "    <tr>\n",
       "      <th>2</th>\n",
       "      <td>경천애인</td>\n",
       "      <td>{0: '한우집으로 매우 유명하고 맛있는집 입니다. 맛의 기준이 개인적으로 다르겠지...</td>\n",
       "      <td>{0: '2019년 8월 16일', 1: '2019년 8월 18일', 2: '7월 ...</td>\n",
       "      <td>{0: 5, 1: 4, 2: 5}</td>\n",
       "    </tr>\n",
       "    <tr>\n",
       "      <th>3</th>\n",
       "      <td>그리너리샐러드</td>\n",
       "      <td>{0: '여의도 쪽에서는 가장 맛있는 샐러드집이라고 생각함! 야채 양이 정말 많아서...</td>\n",
       "      <td>{0: '2019년 8월 29일', 1: '2019년 12월 19일', 2: '20...</td>\n",
       "      <td>{0: 4, 1: 5, 2: 3}</td>\n",
       "    </tr>\n",
       "    <tr>\n",
       "      <th>4</th>\n",
       "      <td>그리츠</td>\n",
       "      <td>{0: '이른 송년모임\\n후배들이 고른 그리츠\\n주중석식 55,000원이다\\n\\n음...</td>\n",
       "      <td>{0: '2019년 11월 16일'}</td>\n",
       "      <td>{0: 3}</td>\n",
       "    </tr>\n",
       "    <tr>\n",
       "      <th>5</th>\n",
       "      <td>나폴레옹</td>\n",
       "      <td>{0: '서울 3대 빵집으로 유명한 곳이라 기대하고 갔어요. 유명한 사라다빵도 넉넉...</td>\n",
       "      <td>{0: '6월 8일'}</td>\n",
       "      <td>{0: 5}</td>\n",
       "    </tr>\n",
       "    <tr>\n",
       "      <th>6</th>\n",
       "      <td>뉴오리진</td>\n",
       "      <td>{0: \"한줄 평\\n'브랜드이미지에 걸맞는 건강한 식탁'\\n\\n\\n뉴오리진은 유한양...</td>\n",
       "      <td>{0: '2019년 9월 4일', 1: '7월 8일', 2: '2019년 6월 5일'}</td>\n",
       "      <td>{0: 5, 1: 4, 2: 5}</td>\n",
       "    </tr>\n",
       "    <tr>\n",
       "      <th>7</th>\n",
       "      <td>더스테이크하우스</td>\n",
       "      <td>{0: '상하이 지점을 가보고 여의도점을 방문했다는 것을 참고바랍니다. 중국 상하이...</td>\n",
       "      <td>{0: '2018년 6월 11일', 1: '2017년 4월 22일'}</td>\n",
       "      <td>{0: 3, 1: 4}</td>\n",
       "    </tr>\n",
       "    <tr>\n",
       "      <th>8</th>\n",
       "      <td>라무진</td>\n",
       "      <td>{0: '남이 구워주는 맛있는 고기가 먹고싶은데 소 돼지가 안끌릴때 가면 딱 좋을만...</td>\n",
       "      <td>{0: '2019년 8월 30일', 1: '2018년 4월 27일', 2: '201...</td>\n",
       "      <td>{0: 5, 1: 4, 2: 4, 3: 5}</td>\n",
       "    </tr>\n",
       "    <tr>\n",
       "      <th>9</th>\n",
       "      <td>바스버거</td>\n",
       "      <td>{0: \"한줄 평\\n'본격 burger &amp; bar'\\n\\n\\n바스버거는 펀드매니저 ...</td>\n",
       "      <td>{0: '2019년 8월 16일', 1: '6월 16일', 2: '7월 29일', ...</td>\n",
       "      <td>{0: 4, 1: 3, 2: 3, 3: 4, 4: 4, 5: 4, 6: 4, 7: ...</td>\n",
       "    </tr>\n",
       "    <tr>\n",
       "      <th>10</th>\n",
       "      <td>브루클린더버거조인트</td>\n",
       "      <td>{0: '거의 한 7-8년전 가로수길에서 처음먹었었는데 여의도점에도 생겼네요 생각보...</td>\n",
       "      <td>{0: '3일 전', 1: '7월 13일', 2: '2019년 8월 20일', 3:...</td>\n",
       "      <td>{0: 5, 1: 4, 2: 4, 3: 5, 4: 4, 5: 5, 6: 4, 7: ...</td>\n",
       "    </tr>\n",
       "    <tr>\n",
       "      <th>11</th>\n",
       "      <td>서궁</td>\n",
       "      <td>{0: '옆 건물로 이사갔어요. 유명한 집 답게 사람 많고, 대부분의 경우 줄 서야...</td>\n",
       "      <td>{0: '1월 31일', 1: '2019년 11월 1일', 2: '2019년 4월 ...</td>\n",
       "      <td>{0: 5, 1: 4, 2: 5, 3: 5, 4: 2}</td>\n",
       "    </tr>\n",
       "    <tr>\n",
       "      <th>12</th>\n",
       "      <td>수하동</td>\n",
       "      <td>{0: '맑은 국물에 누린내 없는 한우 고기가 듬뿍 들어있어요. 깍두기와 함께 한그...</td>\n",
       "      <td>{0: '8월 3일', 1: '2019년 11월 5일'}</td>\n",
       "      <td>{0: 4, 1: 4}</td>\n",
       "    </tr>\n",
       "    <tr>\n",
       "      <th>13</th>\n",
       "      <td>슈치쿠</td>\n",
       "      <td>{0: '현대카드 고메위크로 방문.\\n평소라면 굉장히 비싼 가격때문에 갈수없는 곳....</td>\n",
       "      <td>{0: '2018년 6월 5일', 1: '2019년 11월 22일', 2: '201...</td>\n",
       "      <td>{0: 4, 1: 5, 2: 5}</td>\n",
       "    </tr>\n",
       "    <tr>\n",
       "      <th>14</th>\n",
       "      <td>스시아라타</td>\n",
       "      <td>{0: '#스시아라타\\n#すし あらた\\n#영등포스시아라타\\n#아라타\\n.\\n벌써 시...</td>\n",
       "      <td>{0: '2019년 4월 11일'}</td>\n",
       "      <td>{0: 5}</td>\n",
       "    </tr>\n",
       "    <tr>\n",
       "      <th>15</th>\n",
       "      <td>아루히</td>\n",
       "      <td>{0: '서남권 오마카세 스시계의 탑티어급인 아루히를 다녀왔는데요.\\n\\n\\n아이돌...</td>\n",
       "      <td>{0: '7월 5일', 1: '2019년 12월 16일', 2: '2019년 9월 ...</td>\n",
       "      <td>{0: 5, 1: 5, 2: 5}</td>\n",
       "    </tr>\n",
       "    <tr>\n",
       "      <th>16</th>\n",
       "      <td>아이엠베이글</td>\n",
       "      <td>{0: '갓 구워서 매장에서 먹는 베이글 맛있어요! 알바생분 취향인지 본사 지침인지...</td>\n",
       "      <td>{0: '2019년 8월 25일', 1: '2019년 4월 2일', 2: '7월 1...</td>\n",
       "      <td>{0: 5, 1: 5, 2: 5, 3: 3}</td>\n",
       "    </tr>\n",
       "    <tr>\n",
       "      <th>17</th>\n",
       "      <td>아트리오</td>\n",
       "      <td>{0: '가게 분위기가 정말 좋아요. 이태리레스토랑인만큼 기념일이나 데이트할 때 추...</td>\n",
       "      <td>{0: '2019년 9월 2일', 1: '2019년 8월 10일'}</td>\n",
       "      <td>{0: 4, 1: 4}</td>\n",
       "    </tr>\n",
       "    <tr>\n",
       "      <th>18</th>\n",
       "      <td>야마야</td>\n",
       "      <td>{0: '대체적으로 간이 좀 강한 편입니다. 공기밥 시켜서 같이 먹으니 괜찮네요.'...</td>\n",
       "      <td>{0: '2019년 5월 25일', 1: '2019년 10월 24일', 2: '7월...</td>\n",
       "      <td>{0: 3, 1: 5, 2: 5, 3: 5, 4: 4}</td>\n",
       "    </tr>\n",
       "    <tr>\n",
       "      <th>19</th>\n",
       "      <td>에덴식당</td>\n",
       "      <td>{0: '간만에 여의도의 건강식을 찾아 에덴식당을 찾아갔다.\\n이곳은 산나물비빔밥으...</td>\n",
       "      <td>{0: '5월 13일', 1: '2017년 10월 26일', 2: '2019년 1월...</td>\n",
       "      <td>{0: 4, 1: 5, 2: 5, 3: 3, 4: 4}</td>\n",
       "    </tr>\n",
       "    <tr>\n",
       "      <th>20</th>\n",
       "      <td>영원식당</td>\n",
       "      <td>{0: '티비에서 보고 맛있어 보여서 찾아갔어요. 여의도 약간 허름한 건물에 있는데...</td>\n",
       "      <td>{0: '1월 8일', 1: '2019년 9월 8일', 2: '6월 24일', 3:...</td>\n",
       "      <td>{0: 3, 1: 5, 2: 4, 3: 1, 4: 4, 5: 3, 6: 1, 7: 5}</td>\n",
       "    </tr>\n",
       "    <tr>\n",
       "      <th>21</th>\n",
       "      <td>오헨</td>\n",
       "      <td>{0: '위치가 인기있는 장소에서 살짝 비껴 있다. 하지만 빵의 수준은 아주 좋다....</td>\n",
       "      <td>{0: '2018년 9월 8일', 1: '2018년 2월 3일', 2: '6월 9일...</td>\n",
       "      <td>{0: 5, 1: 4, 2: 5, 3: 5}</td>\n",
       "    </tr>\n",
       "    <tr>\n",
       "      <th>22</th>\n",
       "      <td>정인면옥</td>\n",
       "      <td>{0: '여의도에서 평양냉면을 먹을때 무조건 원픽. 깔끔하고 맛있고 엄청 친절하다....</td>\n",
       "      <td>{0: '7월 18일', 1: '5일 전', 2: '2019년 6월 29일', 3:...</td>\n",
       "      <td>{0: 5, 1: 5, 2: 3, 3: 5, 4: 4}</td>\n",
       "    </tr>\n",
       "    <tr>\n",
       "      <th>23</th>\n",
       "      <td>진가와</td>\n",
       "      <td>{0: '사케랑 너무 잘 어울리는 메뉴들. 술이 술술 잘 들어감. 매뉴 하나하나 다...</td>\n",
       "      <td>{0: '4월 24일'}</td>\n",
       "      <td>{0: 5}</td>\n",
       "    </tr>\n",
       "    <tr>\n",
       "      <th>24</th>\n",
       "      <td>진주집</td>\n",
       "      <td>{0: '여의도 백화점 지하 식당가에 위치한 유명 콩국수 전문점.\\n\\n서울 3대 ...</td>\n",
       "      <td>{0: '8월 18일', 1: '2019년 7월 11일', 2: '5월 1일', 3...</td>\n",
       "      <td>{0: 3, 1: 5, 2: 4, 3: 4, 4: 3, 5: 1, 6: 3, 7: ...</td>\n",
       "    </tr>\n",
       "    <tr>\n",
       "      <th>25</th>\n",
       "      <td>창고43</td>\n",
       "      <td>{0: '역시 창고의 한우는 명품이네요! 고기 다 먹고 깍두기 비빔밥 꼭 드세요. ...</td>\n",
       "      <td>{0: '8월 23일', 1: '2019년 12월 5일', 2: '2019년 4월 ...</td>\n",
       "      <td>{0: 5, 1: 4, 2: 4, 3: 4, 4: 5, 5: 3, 6: 4, 7: ...</td>\n",
       "    </tr>\n",
       "    <tr>\n",
       "      <th>26</th>\n",
       "      <td>카레오</td>\n",
       "      <td>{0: '맛은 쏘쏘. 평범한.일본식카레맛이다. 밥 위에 양배추를 뿌려주는게 신기하다...</td>\n",
       "      <td>{0: '7월 26일', 1: '5월 26일', 2: '2016년 10월 18일'}</td>\n",
       "      <td>{0: 4, 1: 5, 2: 4}</td>\n",
       "    </tr>\n",
       "    <tr>\n",
       "      <th>27</th>\n",
       "      <td>카페진정성</td>\n",
       "      <td>{0: '#주님이먹여살려주시는인생 #카페진정성 #진정성카페\\n-\\n✔오리지널 골드 ...</td>\n",
       "      <td>{0: '3월 23일', 1: '7월 30일'}</td>\n",
       "      <td>{0: 5, 1: 5}</td>\n",
       "    </tr>\n",
       "    <tr>\n",
       "      <th>28</th>\n",
       "      <td>커피기업</td>\n",
       "      <td>{0: nan, 1: nan, 2: '국회의사당역 근처에 위치한 카페에요. 카페 내...</td>\n",
       "      <td>{0: nan, 1: nan, 2: nan, 3: '2019년 11월 22일', 4...</td>\n",
       "      <td>{0: 5, 1: 4, 2: 5, 3: 4, 4: 5, 5: 4}</td>\n",
       "    </tr>\n",
       "    <tr>\n",
       "      <th>29</th>\n",
       "      <td>쿠치나후</td>\n",
       "      <td>{0: '한강이 보이는 뷰라서 분위기가 좋고 서비스도 좋습니다. 굉장히 친절합니다....</td>\n",
       "      <td>{0: '2018년 8월 25일', 1: '2017년 2월 1일'}</td>\n",
       "      <td>{0: 4, 1: 5}</td>\n",
       "    </tr>\n",
       "    <tr>\n",
       "      <th>30</th>\n",
       "      <td>테이스팅룸</td>\n",
       "      <td>{0: '테이스팅룸은 어딜가도 기본 이상은 하죠. IFC에 워낙 다양한 가게가 많아...</td>\n",
       "      <td>{0: '6월 30일', 1: '2019년 5월 1일', 2: '2019년 3월 2...</td>\n",
       "      <td>{0: 5, 1: 4, 2: 3, 3: 3, 4: 4, 5: 5, 6: 3, 7: ...</td>\n",
       "    </tr>\n",
       "    <tr>\n",
       "      <th>31</th>\n",
       "      <td>파낙스</td>\n",
       "      <td>{0: '전통있는듯한 외관. 가격이 세지만 그만큼 큼직한 닭이 거대한 뚝배기에 담긴...</td>\n",
       "      <td>{0: '2019년 4월 16일', 1: '2017년 12월 24일'}</td>\n",
       "      <td>{0: 4, 1: 1}</td>\n",
       "    </tr>\n",
       "    <tr>\n",
       "      <th>32</th>\n",
       "      <td>팥이재</td>\n",
       "      <td>{0: '테라스에서 시원한 빙수를 먹을 수 잇어요. 가격은 사악해요ㅠㅠ 그리고 매장...</td>\n",
       "      <td>{0: '7월 2일', 1: '8월 10일', 2: '2019년 7월 2일'}</td>\n",
       "      <td>{0: 3, 1: 5, 2: 4}</td>\n",
       "    </tr>\n",
       "    <tr>\n",
       "      <th>33</th>\n",
       "      <td>패트릭스와플</td>\n",
       "      <td>{0: '건강생각하면 줄여야지 하면서도 쫀득하면서 달큰한 맛에 계속 생각난다.\\n\\...</td>\n",
       "      <td>{0: '2019년 11월 22일', 1: '6월 19일'}</td>\n",
       "      <td>{0: 5, 1: 4}</td>\n",
       "    </tr>\n",
       "    <tr>\n",
       "      <th>34</th>\n",
       "      <td>폴앤폴리나</td>\n",
       "      <td>{0: '인기있는 빵집이라 구입목적이었던 세상에서 제일 맛있는 치이바타는 매진. 시...</td>\n",
       "      <td>{0: '2019년 10월 12일', 1: '2018년 1월 29일'}</td>\n",
       "      <td>{0: 3, 1: 4}</td>\n",
       "    </tr>\n",
       "    <tr>\n",
       "      <th>35</th>\n",
       "      <td>피그인더가든</td>\n",
       "      <td>{0: '여의도에 위치한 샐러드 맛집이에요.\\n비건은 아니지만 건강한 먹거리를 추구...</td>\n",
       "      <td>{0: '2019년 11월 26일', 1: '3월 1일', 2: '5월 1일', 3...</td>\n",
       "      <td>{0: 5, 1: 5, 2: 3, 3: 4, 4: 4, 5: 4}</td>\n",
       "    </tr>\n",
       "  </tbody>\n",
       "</table>\n",
       "</div>"
      ],
      "text/plain": [
       "          name                                             review  \\\n",
       "0   가양칼국수버섯매운탕  {0: '여의도 직장인이라면 대부분 알고 있는 맛집. 재료도 메뉴도 단순하기 때문에...   \n",
       "1         갓포아키    {0: '정갈하게 일식 먹고 싶을 때 추천합니다. 한우스키야키 우동전골 추천해요!'}   \n",
       "2         경천애인  {0: '한우집으로 매우 유명하고 맛있는집 입니다. 맛의 기준이 개인적으로 다르겠지...   \n",
       "3      그리너리샐러드  {0: '여의도 쪽에서는 가장 맛있는 샐러드집이라고 생각함! 야채 양이 정말 많아서...   \n",
       "4          그리츠  {0: '이른 송년모임\\n후배들이 고른 그리츠\\n주중석식 55,000원이다\\n\\n음...   \n",
       "5         나폴레옹  {0: '서울 3대 빵집으로 유명한 곳이라 기대하고 갔어요. 유명한 사라다빵도 넉넉...   \n",
       "6         뉴오리진  {0: \"한줄 평\\n'브랜드이미지에 걸맞는 건강한 식탁'\\n\\n\\n뉴오리진은 유한양...   \n",
       "7     더스테이크하우스  {0: '상하이 지점을 가보고 여의도점을 방문했다는 것을 참고바랍니다. 중국 상하이...   \n",
       "8          라무진  {0: '남이 구워주는 맛있는 고기가 먹고싶은데 소 돼지가 안끌릴때 가면 딱 좋을만...   \n",
       "9         바스버거  {0: \"한줄 평\\n'본격 burger & bar'\\n\\n\\n바스버거는 펀드매니저 ...   \n",
       "10  브루클린더버거조인트  {0: '거의 한 7-8년전 가로수길에서 처음먹었었는데 여의도점에도 생겼네요 생각보...   \n",
       "11          서궁  {0: '옆 건물로 이사갔어요. 유명한 집 답게 사람 많고, 대부분의 경우 줄 서야...   \n",
       "12         수하동  {0: '맑은 국물에 누린내 없는 한우 고기가 듬뿍 들어있어요. 깍두기와 함께 한그...   \n",
       "13         슈치쿠  {0: '현대카드 고메위크로 방문.\\n평소라면 굉장히 비싼 가격때문에 갈수없는 곳....   \n",
       "14       스시아라타  {0: '#스시아라타\\n#すし あらた\\n#영등포스시아라타\\n#아라타\\n.\\n벌써 시...   \n",
       "15         아루히  {0: '서남권 오마카세 스시계의 탑티어급인 아루히를 다녀왔는데요.\\n\\n\\n아이돌...   \n",
       "16      아이엠베이글  {0: '갓 구워서 매장에서 먹는 베이글 맛있어요! 알바생분 취향인지 본사 지침인지...   \n",
       "17        아트리오  {0: '가게 분위기가 정말 좋아요. 이태리레스토랑인만큼 기념일이나 데이트할 때 추...   \n",
       "18         야마야  {0: '대체적으로 간이 좀 강한 편입니다. 공기밥 시켜서 같이 먹으니 괜찮네요.'...   \n",
       "19        에덴식당  {0: '간만에 여의도의 건강식을 찾아 에덴식당을 찾아갔다.\\n이곳은 산나물비빔밥으...   \n",
       "20        영원식당  {0: '티비에서 보고 맛있어 보여서 찾아갔어요. 여의도 약간 허름한 건물에 있는데...   \n",
       "21          오헨  {0: '위치가 인기있는 장소에서 살짝 비껴 있다. 하지만 빵의 수준은 아주 좋다....   \n",
       "22        정인면옥  {0: '여의도에서 평양냉면을 먹을때 무조건 원픽. 깔끔하고 맛있고 엄청 친절하다....   \n",
       "23         진가와  {0: '사케랑 너무 잘 어울리는 메뉴들. 술이 술술 잘 들어감. 매뉴 하나하나 다...   \n",
       "24         진주집  {0: '여의도 백화점 지하 식당가에 위치한 유명 콩국수 전문점.\\n\\n서울 3대 ...   \n",
       "25        창고43  {0: '역시 창고의 한우는 명품이네요! 고기 다 먹고 깍두기 비빔밥 꼭 드세요. ...   \n",
       "26         카레오  {0: '맛은 쏘쏘. 평범한.일본식카레맛이다. 밥 위에 양배추를 뿌려주는게 신기하다...   \n",
       "27       카페진정성  {0: '#주님이먹여살려주시는인생 #카페진정성 #진정성카페\\n-\\n✔오리지널 골드 ...   \n",
       "28        커피기업  {0: nan, 1: nan, 2: '국회의사당역 근처에 위치한 카페에요. 카페 내...   \n",
       "29        쿠치나후  {0: '한강이 보이는 뷰라서 분위기가 좋고 서비스도 좋습니다. 굉장히 친절합니다....   \n",
       "30       테이스팅룸  {0: '테이스팅룸은 어딜가도 기본 이상은 하죠. IFC에 워낙 다양한 가게가 많아...   \n",
       "31         파낙스  {0: '전통있는듯한 외관. 가격이 세지만 그만큼 큼직한 닭이 거대한 뚝배기에 담긴...   \n",
       "32         팥이재  {0: '테라스에서 시원한 빙수를 먹을 수 잇어요. 가격은 사악해요ㅠㅠ 그리고 매장...   \n",
       "33      패트릭스와플  {0: '건강생각하면 줄여야지 하면서도 쫀득하면서 달큰한 맛에 계속 생각난다.\\n\\...   \n",
       "34       폴앤폴리나  {0: '인기있는 빵집이라 구입목적이었던 세상에서 제일 맛있는 치이바타는 매진. 시...   \n",
       "35      피그인더가든  {0: '여의도에 위치한 샐러드 맛집이에요.\\n비건은 아니지만 건강한 먹거리를 추구...   \n",
       "\n",
       "                                                 date  \\\n",
       "0   {0: '2019년 3월 27일', 1: '7월 14일', 2: '2019년 6월 ...   \n",
       "1                                 {0: '2019년 8월 29일'}   \n",
       "2   {0: '2019년 8월 16일', 1: '2019년 8월 18일', 2: '7월 ...   \n",
       "3   {0: '2019년 8월 29일', 1: '2019년 12월 19일', 2: '20...   \n",
       "4                                {0: '2019년 11월 16일'}   \n",
       "5                                        {0: '6월 8일'}   \n",
       "6    {0: '2019년 9월 4일', 1: '7월 8일', 2: '2019년 6월 5일'}   \n",
       "7              {0: '2018년 6월 11일', 1: '2017년 4월 22일'}   \n",
       "8   {0: '2019년 8월 30일', 1: '2018년 4월 27일', 2: '201...   \n",
       "9   {0: '2019년 8월 16일', 1: '6월 16일', 2: '7월 29일', ...   \n",
       "10  {0: '3일 전', 1: '7월 13일', 2: '2019년 8월 20일', 3:...   \n",
       "11  {0: '1월 31일', 1: '2019년 11월 1일', 2: '2019년 4월 ...   \n",
       "12                    {0: '8월 3일', 1: '2019년 11월 5일'}   \n",
       "13  {0: '2018년 6월 5일', 1: '2019년 11월 22일', 2: '201...   \n",
       "14                                {0: '2019년 4월 11일'}   \n",
       "15  {0: '7월 5일', 1: '2019년 12월 16일', 2: '2019년 9월 ...   \n",
       "16  {0: '2019년 8월 25일', 1: '2019년 4월 2일', 2: '7월 1...   \n",
       "17              {0: '2019년 9월 2일', 1: '2019년 8월 10일'}   \n",
       "18  {0: '2019년 5월 25일', 1: '2019년 10월 24일', 2: '7월...   \n",
       "19  {0: '5월 13일', 1: '2017년 10월 26일', 2: '2019년 1월...   \n",
       "20  {0: '1월 8일', 1: '2019년 9월 8일', 2: '6월 24일', 3:...   \n",
       "21  {0: '2018년 9월 8일', 1: '2018년 2월 3일', 2: '6월 9일...   \n",
       "22  {0: '7월 18일', 1: '5일 전', 2: '2019년 6월 29일', 3:...   \n",
       "23                                      {0: '4월 24일'}   \n",
       "24  {0: '8월 18일', 1: '2019년 7월 11일', 2: '5월 1일', 3...   \n",
       "25  {0: '8월 23일', 1: '2019년 12월 5일', 2: '2019년 4월 ...   \n",
       "26     {0: '7월 26일', 1: '5월 26일', 2: '2016년 10월 18일'}   \n",
       "27                         {0: '3월 23일', 1: '7월 30일'}   \n",
       "28  {0: nan, 1: nan, 2: nan, 3: '2019년 11월 22일', 4...   \n",
       "29              {0: '2018년 8월 25일', 1: '2017년 2월 1일'}   \n",
       "30  {0: '6월 30일', 1: '2019년 5월 1일', 2: '2019년 3월 2...   \n",
       "31            {0: '2019년 4월 16일', 1: '2017년 12월 24일'}   \n",
       "32        {0: '7월 2일', 1: '8월 10일', 2: '2019년 7월 2일'}   \n",
       "33                  {0: '2019년 11월 22일', 1: '6월 19일'}   \n",
       "34            {0: '2019년 10월 12일', 1: '2018년 1월 29일'}   \n",
       "35  {0: '2019년 11월 26일', 1: '3월 1일', 2: '5월 1일', 3...   \n",
       "\n",
       "                                                score  \n",
       "0   {0: 5, 1: 3, 2: 4, 3: 4, 4: 5, 5: 5, 6: 5, 7: ...  \n",
       "1                                              {0: 5}  \n",
       "2                                  {0: 5, 1: 4, 2: 5}  \n",
       "3                                  {0: 4, 1: 5, 2: 3}  \n",
       "4                                              {0: 3}  \n",
       "5                                              {0: 5}  \n",
       "6                                  {0: 5, 1: 4, 2: 5}  \n",
       "7                                        {0: 3, 1: 4}  \n",
       "8                            {0: 5, 1: 4, 2: 4, 3: 5}  \n",
       "9   {0: 4, 1: 3, 2: 3, 3: 4, 4: 4, 5: 4, 6: 4, 7: ...  \n",
       "10  {0: 5, 1: 4, 2: 4, 3: 5, 4: 4, 5: 5, 6: 4, 7: ...  \n",
       "11                     {0: 5, 1: 4, 2: 5, 3: 5, 4: 2}  \n",
       "12                                       {0: 4, 1: 4}  \n",
       "13                                 {0: 4, 1: 5, 2: 5}  \n",
       "14                                             {0: 5}  \n",
       "15                                 {0: 5, 1: 5, 2: 5}  \n",
       "16                           {0: 5, 1: 5, 2: 5, 3: 3}  \n",
       "17                                       {0: 4, 1: 4}  \n",
       "18                     {0: 3, 1: 5, 2: 5, 3: 5, 4: 4}  \n",
       "19                     {0: 4, 1: 5, 2: 5, 3: 3, 4: 4}  \n",
       "20   {0: 3, 1: 5, 2: 4, 3: 1, 4: 4, 5: 3, 6: 1, 7: 5}  \n",
       "21                           {0: 5, 1: 4, 2: 5, 3: 5}  \n",
       "22                     {0: 5, 1: 5, 2: 3, 3: 5, 4: 4}  \n",
       "23                                             {0: 5}  \n",
       "24  {0: 3, 1: 5, 2: 4, 3: 4, 4: 3, 5: 1, 6: 3, 7: ...  \n",
       "25  {0: 5, 1: 4, 2: 4, 3: 4, 4: 5, 5: 3, 6: 4, 7: ...  \n",
       "26                                 {0: 4, 1: 5, 2: 4}  \n",
       "27                                       {0: 5, 1: 5}  \n",
       "28               {0: 5, 1: 4, 2: 5, 3: 4, 4: 5, 5: 4}  \n",
       "29                                       {0: 4, 1: 5}  \n",
       "30  {0: 5, 1: 4, 2: 3, 3: 3, 4: 4, 5: 5, 6: 3, 7: ...  \n",
       "31                                       {0: 4, 1: 1}  \n",
       "32                                 {0: 3, 1: 5, 2: 4}  \n",
       "33                                       {0: 5, 1: 4}  \n",
       "34                                       {0: 3, 1: 4}  \n",
       "35               {0: 5, 1: 5, 2: 3, 3: 4, 4: 4, 5: 4}  "
      ]
     },
     "execution_count": 76,
     "metadata": {},
     "output_type": "execute_result"
    }
   ],
   "source": [
    "pd.read_excel('dinning_review_reshape.xlsx')"
   ]
  },
  {
   "cell_type": "code",
   "execution_count": null,
   "metadata": {},
   "outputs": [],
   "source": [
    "def like_agg(each_group):\n",
    "    "
   ]
  },
  {
   "cell_type": "code",
   "execution_count": 77,
   "metadata": {},
   "outputs": [
    {
     "data": {
      "text/html": [
       "<div>\n",
       "<style scoped>\n",
       "    .dataframe tbody tr th:only-of-type {\n",
       "        vertical-align: middle;\n",
       "    }\n",
       "\n",
       "    .dataframe tbody tr th {\n",
       "        vertical-align: top;\n",
       "    }\n",
       "\n",
       "    .dataframe thead th {\n",
       "        text-align: right;\n",
       "    }\n",
       "</style>\n",
       "<table border=\"1\" class=\"dataframe\">\n",
       "  <thead>\n",
       "    <tr style=\"text-align: right;\">\n",
       "      <th></th>\n",
       "      <th>name</th>\n",
       "      <th>person</th>\n",
       "      <th>like_date</th>\n",
       "    </tr>\n",
       "  </thead>\n",
       "  <tbody>\n",
       "    <tr>\n",
       "      <th>0</th>\n",
       "      <td>스시아라타</td>\n",
       "      <td>조정환 (347곳)</td>\n",
       "      <td>2020년 4월 11일</td>\n",
       "    </tr>\n",
       "    <tr>\n",
       "      <th>1</th>\n",
       "      <td>스시아라타</td>\n",
       "      <td>김재환 (3500곳)</td>\n",
       "      <td>2020년 3월 7일</td>\n",
       "    </tr>\n",
       "    <tr>\n",
       "      <th>2</th>\n",
       "      <td>스시아라타</td>\n",
       "      <td>몽돌이 (22곳)</td>\n",
       "      <td>2020년 2월 13일</td>\n",
       "    </tr>\n",
       "    <tr>\n",
       "      <th>3</th>\n",
       "      <td>스시아라타</td>\n",
       "      <td>고영 (11곳)</td>\n",
       "      <td>2020년 1월 27일</td>\n",
       "    </tr>\n",
       "    <tr>\n",
       "      <th>4</th>\n",
       "      <td>스시아라타</td>\n",
       "      <td>TiberiusChoe (215곳)</td>\n",
       "      <td>2019년 12월 1일</td>\n",
       "    </tr>\n",
       "    <tr>\n",
       "      <th>...</th>\n",
       "      <td>...</td>\n",
       "      <td>...</td>\n",
       "      <td>...</td>\n",
       "    </tr>\n",
       "    <tr>\n",
       "      <th>2255</th>\n",
       "      <td>슈치쿠</td>\n",
       "      <td>Young Wook Song (1곳)</td>\n",
       "      <td>2016년 8월 31일</td>\n",
       "    </tr>\n",
       "    <tr>\n",
       "      <th>2256</th>\n",
       "      <td>슈치쿠</td>\n",
       "      <td>김수현여친 (314곳)</td>\n",
       "      <td>2016년 2월 5일</td>\n",
       "    </tr>\n",
       "    <tr>\n",
       "      <th>2257</th>\n",
       "      <td>슈치쿠</td>\n",
       "      <td>luvlatte (34곳)</td>\n",
       "      <td>2015년 11월 11일</td>\n",
       "    </tr>\n",
       "    <tr>\n",
       "      <th>2258</th>\n",
       "      <td>슈치쿠</td>\n",
       "      <td>sykimmmm (27곳)</td>\n",
       "      <td>2015년 10월 29일</td>\n",
       "    </tr>\n",
       "    <tr>\n",
       "      <th>2259</th>\n",
       "      <td>패트릭스와플</td>\n",
       "      <td>onis (1590곳)</td>\n",
       "      <td>2019년 7월 21일</td>\n",
       "    </tr>\n",
       "  </tbody>\n",
       "</table>\n",
       "<p>2260 rows × 3 columns</p>\n",
       "</div>"
      ],
      "text/plain": [
       "        name                person      like_date\n",
       "0      스시아라타            조정환 (347곳)   2020년 4월 11일\n",
       "1      스시아라타           김재환 (3500곳)    2020년 3월 7일\n",
       "2      스시아라타             몽돌이 (22곳)   2020년 2월 13일\n",
       "3      스시아라타              고영 (11곳)   2020년 1월 27일\n",
       "4      스시아라타   TiberiusChoe (215곳)   2019년 12월 1일\n",
       "...      ...                   ...            ...\n",
       "2255     슈치쿠  Young Wook Song (1곳)   2016년 8월 31일\n",
       "2256     슈치쿠          김수현여친 (314곳)    2016년 2월 5일\n",
       "2257     슈치쿠        luvlatte (34곳)  2015년 11월 11일\n",
       "2258     슈치쿠        sykimmmm (27곳)  2015년 10월 29일\n",
       "2259  패트릭스와플          onis (1590곳)   2019년 7월 21일\n",
       "\n",
       "[2260 rows x 3 columns]"
      ]
     },
     "execution_count": 77,
     "metadata": {},
     "output_type": "execute_result"
    }
   ],
   "source": [
    "dinning.groupby('name').apply(lambda x:like_agg(x))"
   ]
  },
  {
   "cell_type": "code",
   "execution_count": null,
   "metadata": {},
   "outputs": [],
   "source": []
  }
 ],
 "metadata": {
  "kernelspec": {
   "display_name": "Python 3",
   "language": "python",
   "name": "python3"
  },
  "language_info": {
   "codemirror_mode": {
    "name": "ipython",
    "version": 3
   },
   "file_extension": ".py",
   "mimetype": "text/x-python",
   "name": "python",
   "nbconvert_exporter": "python",
   "pygments_lexer": "ipython3",
   "version": "3.7.0"
  }
 },
 "nbformat": 4,
 "nbformat_minor": 4
}
